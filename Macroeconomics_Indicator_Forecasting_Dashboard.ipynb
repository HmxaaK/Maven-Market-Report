{
  "nbformat": 4,
  "nbformat_minor": 0,
  "metadata": {
    "colab": {
      "provenance": [],
      "authorship_tag": "ABX9TyOBVuqaLWFE4NAX6eMJ2ZT3",
      "include_colab_link": true
    },
    "kernelspec": {
      "name": "python3",
      "display_name": "Python 3"
    },
    "language_info": {
      "name": "python"
    }
  },
  "cells": [
    {
      "cell_type": "markdown",
      "metadata": {
        "id": "view-in-github",
        "colab_type": "text"
      },
      "source": [
        "<a href=\"https://colab.research.google.com/github/HmxaaK/Maven-Market-Report/blob/main/Macroeconomics_Indicator_Forecasting_Dashboard.ipynb\" target=\"_parent\"><img src=\"https://colab.research.google.com/assets/colab-badge.svg\" alt=\"Open In Colab\"/></a>"
      ]
    },
    {
      "cell_type": "code",
      "execution_count": null,
      "metadata": {
        "id": "cgvcEIViidA1",
        "colab": {
          "base_uri": "https://localhost:8080/"
        },
        "outputId": "79ecd0fd-3020-47b9-82a3-c556f71d980e"
      },
      "outputs": [
        {
          "output_type": "stream",
          "name": "stdout",
          "text": [
            "Best AR(p) Model According to AIC Criteira : AR(10)\n",
            "Best ARDL(p,q) Model According to AIC Criteira : ARDL(2,3)\n"
          ]
        }
      ],
      "source": [
        "#Libraries\n",
        "import pandas as pd\n",
        "import numpy as np\n",
        "from statsmodels.tsa.ar_model import AutoReg,ar_select_order\n",
        "from statsmodels.tsa.ardl import ARDL,ardl_select_order\n",
        "\n",
        "#Dataset\n",
        "data = pd.read_csv('Macro Vars.csv', parse_dates=['Date'], index_col='Date')\n",
        "data = data.asfreq('MS')\n",
        "\n",
        "#Model Specified\n",
        "y = np.log(data[\"PCE\"]).diff().dropna()\n",
        "X = np.log(data[['DSPI']]).diff().dropna()\n",
        "\n",
        "#Optimal AR(p) selected\n",
        "def AR_p_selection(target):\n",
        "  max_p = int(np.sqrt(len(target)))\n",
        "  lag_length = ar_select_order(target,maxlag=max_p,ic='aic')\n",
        "  p = lag_length.ar_lags\n",
        "  return p\n",
        "\n",
        "#AR Model Fitted\n",
        "p =  AR_p_selection(y)\n",
        "ar_model = AutoReg(y,lags=p).fit()\n",
        "print (f'Best AR(p) Model According to AIC Criteira : AR({p[-1]})')\n",
        "forecast_AR = ar_model.predict(start=0,end=len(y))\n",
        "residuals_AR = y - forecast_AR\n",
        "\n",
        "#Optimal ARDL(p,q) selected\n",
        "def ardl_pq_selection(target, features):\n",
        "    max_p = int(np.sqrt(len(target)))\n",
        "    max_q = int(np.sqrt(len(target)))\n",
        "    lag_length = ardl_select_order(target, maxlag=max_p, exog=features,\n",
        "                                maxorder=max_q, trend='c')\n",
        "    p = lag_length.ar_lags\n",
        "    order_dict = lag_length.dl_lags\n",
        "    q = order_dict['DSPI']\n",
        "    q = [var for var in q if var>0]\n",
        "    return p,q\n",
        "\n",
        "#ARDL Model Fitted\n",
        "p,q = ardl_pq_selection(y,X)\n",
        "ardl_model = ARDL(endog=y,lags=p,exog=X,order=q).fit()\n",
        "print (f'Best ARDL(p,q) Model According to AIC Criteira : ARDL({p[-1]},{q[-1]})')\n",
        "forecast_ARDL = ardl_model.predict(start=0,end=len(y))\n",
        "residuals_ARDL = y - forecast_ARDL\n",
        "\n",
        "#Combined into a Table\n",
        "AR = pd.concat([forecast_AR,residuals_AR],axis=1)\n",
        "AR['Model ID'] = 1\n",
        "ARDL = pd.concat([forecast_ARDL,residuals_ARDL],axis=1)\n",
        "ARDL['Model ID'] = 2\n",
        "forecast_table = pd.concat([AR,ARDL])\n",
        "forecast_table.columns = ['Forecast','Residuals','Model ID']\n",
        "forecast_table.to_csv('Forecasts.csv')\n"
      ]
    }
  ]
}